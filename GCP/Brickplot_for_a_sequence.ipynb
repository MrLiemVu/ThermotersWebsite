{
 "cells": [
  {
   "cell_type": "markdown",
   "metadata": {
    "ExecuteTime": {
     "end_time": "2021-07-02T12:59:11.136418Z",
     "start_time": "2021-07-02T12:59:11.133397Z"
    }
   },
   "source": [
    "# Imports and parameters"
   ]
  },
  {
   "cell_type": "markdown",
   "metadata": {},
   "source": [
    "## Set paths"
   ]
  },
  {
   "cell_type": "code",
   "execution_count": 1,
   "metadata": {},
   "outputs": [],
   "source": [
    "# Model folder\n",
    "model_path = '/Users/stepandenisov/Downloads/Brickplot_from_seq/Thermoters-master/'\n",
    "# Fasta file with sequences\n",
    "input_fasta_filepath = '/Users/stepandenisov/Downloads/Brickplot_from_seq/Input/v1.fasta'\n",
    "# Output folder\n",
    "output_folder = '/Users/stepandenisov/Downloads/Brickplot_from_seq/Output/'"
   ]
  },
  {
   "cell_type": "code",
   "execution_count": 2,
   "metadata": {
    "ExecuteTime": {
     "end_time": "2023-08-18T16:43:57.814773Z",
     "start_time": "2023-08-18T16:43:57.799030Z"
    }
   },
   "outputs": [
    {
     "name": "stdout",
     "output_type": "stream",
     "text": [
      "/Users/stepandenisov/Downloads/Brickplot_from_seq/Thermoters-master/functions\n"
     ]
    }
   ],
   "source": [
    "import os\n",
    "os.chdir(model_path + 'functions/')\n",
    "\n",
    "print(os.getcwd())"
   ]
  },
  {
   "cell_type": "code",
   "execution_count": 3,
   "metadata": {
    "ExecuteTime": {
     "end_time": "2023-08-18T16:43:57.842194Z",
     "start_time": "2023-08-18T16:43:57.820335Z"
    }
   },
   "outputs": [
    {
     "name": "stdout",
     "output_type": "stream",
     "text": [
      "Overwriting setup.py\n"
     ]
    }
   ],
   "source": [
    "%%file setup.py\n",
    "from setuptools import setup\n",
    "from Cython.Build import cythonize\n",
    "import numpy as np\n",
    "import os\n",
    "\n",
    "print(np.get_include())\n",
    "\n",
    "os.environ[\"C_INCLUDE_PATH\"] = np.get_include()\n",
    "setup(\n",
    "    ext_modules = cythonize(model_path +'functions/fastFunctions.pyx')\n",
    ")\n",
    "\n"
   ]
  },
  {
   "cell_type": "code",
   "execution_count": 4,
   "metadata": {
    "ExecuteTime": {
     "end_time": "2023-08-18T16:43:57.852904Z",
     "start_time": "2023-08-18T16:43:57.847733Z"
    }
   },
   "outputs": [
    {
     "name": "stdout",
     "output_type": "stream",
     "text": [
      "/Users/stepandenisov/Downloads/Brickplot_from_seq/Thermoters-master/functions\n"
     ]
    }
   ],
   "source": [
    "print(os.getcwd())"
   ]
  },
  {
   "cell_type": "markdown",
   "metadata": {
    "ExecuteTime": {
     "end_time": "2021-07-02T13:05:15.976183Z",
     "start_time": "2021-07-02T13:05:15.974024Z"
    }
   },
   "source": [
    "## Import modules\n",
    "### Usual modules"
   ]
  },
  {
   "cell_type": "code",
   "execution_count": 5,
   "metadata": {
    "ExecuteTime": {
     "end_time": "2023-08-18T16:44:06.098725Z",
     "start_time": "2023-08-18T16:44:02.468046Z"
    }
   },
   "outputs": [],
   "source": [
    "from Bio import SeqIO\n",
    "from Bio.Seq import Seq\n",
    "from __future__ import division, print_function, absolute_import\n",
    "import os\n",
    "import numpy as np\n",
    "import copy\n",
    "from sys import path as syspath\n",
    "import matplotlib.pyplot as plt\n",
    "import pandas as pd\n",
    "import pickle\n",
    "from sklearn import linear_model"
   ]
  },
  {
   "cell_type": "markdown",
   "metadata": {},
   "source": [
    "### Model-related imports\n",
    "\n",
    "The most CPU intensive functions are in `fastFunctions.pyx`. It is a cython file that needs to be compiled. See <a href=https://cython.readthedocs.io/en/latest/src/tutorial/cython_tutorial.html>cython tutorial </a> on how to do it. Upon successful compilation you get an `.so` file. I've put the one I obtained in the folder to be able to do show you this, but I doubt it will work for you. It probably needs to be recompiled for your system. If you need help, let me know.\n"
   ]
  },
  {
   "cell_type": "code",
   "execution_count": 6,
   "metadata": {
    "ExecuteTime": {
     "end_time": "2023-08-18T16:44:06.739981Z",
     "start_time": "2023-08-18T16:44:06.100432Z"
    }
   },
   "outputs": [],
   "source": [
    "os.chdir(model_path+'notebooks/')\n",
    "os.getcwd()\n",
    "syspath.append(model_path+'data/')\n",
    "syspath.append(model_path+'functions/')\n",
    "\n",
    "from fastFunctions import bindingEnergies, getDiNu, tensum\n",
    "\n",
    "# this imports the data and functions from definitions\n",
    "#exec(open(model_path+\"functions/definitions_bigfit_10.py\").read())\n",
    "exec(open(model_path+\"functions/definitions_bigfit_10.py_deprecated\").read())"
   ]
  },
  {
   "cell_type": "markdown",
   "metadata": {},
   "source": [
    "## Set constants & parameters\n",
    "### Constants"
   ]
  },
  {
   "cell_type": "code",
   "execution_count": 7,
   "metadata": {
    "ExecuteTime": {
     "end_time": "2023-08-18T16:44:06.758328Z",
     "start_time": "2023-08-18T16:44:06.742038Z"
    }
   },
   "outputs": [],
   "source": [
    "bases = \"acgt\"\n",
    "lett_to_index = dict(zip(bases, range(4)))\n",
    "\n",
    "## Display options (adjusted to Mac)\n",
    "%matplotlib inline\n",
    "%config InlineBackend.figure_format = 'retina'"
   ]
  },
  {
   "cell_type": "markdown",
   "metadata": {},
   "source": [
    "### Set parameters"
   ]
  },
  {
   "cell_type": "code",
   "execution_count": 8,
   "metadata": {
    "ExecuteTime": {
     "end_time": "2023-08-18T16:44:06.764660Z",
     "start_time": "2023-08-18T16:44:06.760753Z"
    }
   },
   "outputs": [],
   "source": [
    "is_plus_one = True # True - a brick points to +1; False - points to -40\n",
    "if is_plus_one: # shift for sequence to adjust +1 or -40\n",
    "    shift = 40\n",
    "else:\n",
    "    shift = 0\n",
    "    \n",
    "is_reverse_complement = False # If True, reverse complement fasta seqs, then treat as usual\n",
    "\n",
    "# For visualisation\n",
    "\n",
    "max_value = -2.5\n",
    "min_value = -6\n",
    "\n",
    "is_high_to_default = False # If True, visualize brickplot values > treshold as default value\n",
    "treshold = -2.5\n",
    "default_value = max_value \n",
    "color_map = 'hot'\n",
    "\n",
    "is_prefix_suffix = True # True - add Gs to the begining and end of each sequence to make it equal length and space for matrix\n"
   ]
  },
  {
   "cell_type": "markdown",
   "metadata": {},
   "source": [
    "# Preprocessing\n",
    "Not a bug but the feature: add artificial 'g's in the begining and the end of all sequences to make them equal by length"
   ]
  },
  {
   "cell_type": "code",
   "execution_count": 9,
   "metadata": {
    "ExecuteTime": {
     "end_time": "2023-08-18T16:44:06.784643Z",
     "start_time": "2023-08-18T16:44:06.767003Z"
    }
   },
   "outputs": [
    {
     "name": "stdout",
     "output_type": "stream",
     "text": [
      "v1\n",
      "sequence length = 291\n",
      "CGCCAGCAACCGCACCTGTGGCGCCGGTGATGCCGGCCACGATGCGTCCGGCGTAGAGGATCTGCTCATGTTTGACAGCTTATCATCGATAGCTAACAATTCGTTCAAGCCGAGCCCGCTTTGCGGTCTCGGACCGACCGGAGCCGCATCGGGCGGGCCGGCTTAACTCAGGCGTTAGGTTTGCATAAAATTTACGGTTCTAGGGTTTATGCTGAGAGAAGAGAGAGGCGAGCCTGCTGTTATGATACTTGTGAAGGGCGGCACTCTGTCGTCTAATTCTAGTTAGACATC\n"
     ]
    }
   ],
   "source": [
    "# Import promoters seqs data\n",
    "fasta_reader = open(input_fasta_filepath, 'r')\n",
    "\n",
    "# Initial sequences: fasta -> dict\n",
    "dict_seqs = {}\n",
    "max_seq_len = 0\n",
    "for line in fasta_reader:\n",
    "    if line.startswith('>'):\n",
    "        seq_id = line.strip('>').strip()\n",
    "        print(seq_id)\n",
    "    else:\n",
    "        seq = line.strip('\"').strip()\n",
    "        if seq == '':\n",
    "            continue\n",
    "        else:\n",
    "            if is_reverse_complement:\n",
    "                seq = str(Seq(seq).reverse_complement())\n",
    "        print('sequence length = '+str(len(seq)))\n",
    "        if max_seq_len < len(seq):\n",
    "            max_seq_len = len(seq)\n",
    "        print(seq)\n",
    "        dict_seqs[seq_id] = seq\n",
    "        \n",
    "fasta_reader.close()\n",
    "\n",
    "# Sequences unified by length (TO MODIFY?)\n",
    "# Add artificial 'g's in the begining and the end of all sequences to mak ethem equal by length\n",
    "unified_seqs_dict = {}\n",
    "for seq_id in dict_seqs:\n",
    "    seq = dict_seqs[seq_id]\n",
    "    if is_prefix_suffix:\n",
    "        prefix = str('g'*(max_seq_len - len(seq)+shift+5))\n",
    "        suffix = str('g'*(32+2+shift))\n",
    "        unified_seqs_dict[seq_id] = (prefix+seq+suffix).lower()\n",
    "    else:\n",
    "        unified_seqs_dict[seq_id] = seq.lower()\n",
    "        \n",
    "    #print(len(unified_seqs_dict[seq_id]))\n",
    "        \n",
    "# Seqs as numbers: 1) list of Int arrays made from Sequences unified by length, 2) list of seq_ids     \n",
    "num_unified_seqs = []\n",
    "seq_ids = []\n",
    "for seq_id in unified_seqs_dict:\n",
    "    seq_ids.append(seq_id)\n",
    "    \n",
    "num_unified_seqs = np.array([np.array([lett_to_index[l] for l in s]) for s in unified_seqs_dict.values()])    \n"
   ]
  },
  {
   "cell_type": "markdown",
   "metadata": {
    "ExecuteTime": {
     "end_time": "2021-07-02T12:38:07.116405Z",
     "start_time": "2021-07-02T12:38:07.112968Z"
    }
   },
   "source": [
    "# Import the model"
   ]
  },
  {
   "cell_type": "code",
   "execution_count": 10,
   "metadata": {
    "ExecuteTime": {
     "end_time": "2023-08-18T16:44:08.531993Z",
     "start_time": "2023-08-18T16:44:06.786529Z"
    }
   },
   "outputs": [
    {
     "name": "stdout",
     "output_type": "stream",
     "text": [
      "/Users/stepandenisov/Downloads/Brickplot_from_seq/Thermoters-master/models/fitted_on_Pr.Pl.36N/model_[2]_stm+flex+cumul.dmp\n"
     ]
    },
    {
     "name": "stderr",
     "output_type": "stream",
     "text": [
      "/Users/stepandenisov/anaconda3/lib/python3.11/site-packages/sklearn/base.py:347: InconsistentVersionWarning: Trying to unpickle estimator LogisticRegression from version 0.22.1 when using version 1.3.0. This might lead to breaking code or invalid results. Use at your own risk. For more info please refer to:\n",
      "https://scikit-learn.org/stable/model_persistence.html#security-maintainability-limitations\n",
      "  warnings.warn(\n"
     ]
    }
   ],
   "source": [
    "# Import the model\n",
    "dmp_path = model_path + \"models/fitted_on_Pr.Pl.36N/model_[2]_stm+flex+cumul.dmp\"\n",
    "print(dmp_path)\n",
    "with open(dmp_path,\"rb\") as f:\n",
    "    model = pickle.load(f, encoding=\"latin1\")"
   ]
  },
  {
   "cell_type": "markdown",
   "metadata": {},
   "source": [
    "I coded the model as a dictionary, but many of the keys are not important. I'll highlight only those that are."
   ]
  },
  {
   "cell_type": "code",
   "execution_count": 11,
   "metadata": {
    "ExecuteTime": {
     "end_time": "2023-08-18T16:44:08.542761Z",
     "start_time": "2023-08-18T16:44:08.535389Z"
    }
   },
   "outputs": [
    {
     "name": "stdout",
     "output_type": "stream",
     "text": [
      "The total footprint of RNAp = 32\n"
     ]
    }
   ],
   "source": [
    "leftFoot, rightFoot = model[\"matrices\"]\n",
    "defaultSpacer       = model[\"Layout\"][1]\n",
    "spacerFlexibility   = model[\"spFlex\"]\n",
    "spacerPenalties     = model[\"sp.penalties\"]\n",
    "\n",
    "# the total footprint of RNAp\n",
    "print('The total footprint of RNAp = '+str(sum(model[\"Layout\"])))"
   ]
  },
  {
   "cell_type": "markdown",
   "metadata": {},
   "source": [
    "For example, here is the binding matrix"
   ]
  },
  {
   "cell_type": "code",
   "execution_count": 12,
   "metadata": {
    "ExecuteTime": {
     "end_time": "2023-08-18T16:44:08.556435Z",
     "start_time": "2023-08-18T16:44:08.550305Z"
    }
   },
   "outputs": [
    {
     "name": "stdout",
     "output_type": "stream",
     "text": [
      "The matrix size = (32, 4)\n"
     ]
    }
   ],
   "source": [
    "matrix = np.vstack([\n",
    "    leftFoot,\n",
    "    np.ones((defaultSpacer,4))*np.nan,\n",
    "    rightFoot\n",
    "])\n",
    "\n",
    "print('The matrix size = '+str(matrix.shape))"
   ]
  },
  {
   "cell_type": "code",
   "execution_count": 13,
   "metadata": {
    "ExecuteTime": {
     "end_time": "2023-08-18T16:44:08.765195Z",
     "start_time": "2023-08-18T16:44:08.563895Z"
    }
   },
   "outputs": [
    {
     "name": "stdout",
     "output_type": "stream",
     "text": [
      "The matrix itself:\n"
     ]
    },
    {
     "data": {
      "image/png": "[encoded data removed]",
      "text/plain": [
       "<Figure size 640x480 with 1 Axes>"
      ]
     },
     "metadata": {
      "image/png": {
       "height": 105,
       "width": 534
      }
     },
     "output_type": "display_data"
    }
   ],
   "source": [
    "plt.imshow(matrix.T, cmap=color_map);\n",
    "print('The matrix itself:')"
   ]
  },
  {
   "cell_type": "markdown",
   "metadata": {},
   "source": [
    "To go from sequence to expression, there are a few steps:"
   ]
  },
  {
   "cell_type": "markdown",
   "metadata": {},
   "source": [
    "# From sequence to expression\n",
    "## Brickplots\n",
    "### Get the bricks (apply the model to our seqs)"
   ]
  },
  {
   "cell_type": "code",
   "execution_count": 14,
   "metadata": {
    "ExecuteTime": {
     "end_time": "2023-08-18T16:44:08.777746Z",
     "start_time": "2023-08-18T16:44:08.769041Z"
    },
    "scrolled": true
   },
   "outputs": [
    {
     "name": "stdout",
     "output_type": "stream",
     "text": [
      "defaultSpacer = 8\n"
     ]
    }
   ],
   "source": [
    "bricks = getBricks(\n",
    "    twoMatrices     = [leftFoot,rightFoot],\n",
    "    minSpacer       = defaultSpacer-spacerFlexibility, # minimal spacer\n",
    "    spacerPenalties = spacerPenalties,\n",
    "    sequences       = num_unified_seqs\n",
    ")\n",
    "\n",
    "# Default spacer corresponds to spacer flex = 0 on a brickplot\n",
    "print('defaultSpacer = '+str(defaultSpacer))\n"
   ]
  },
  {
   "cell_type": "markdown",
   "metadata": {},
   "source": [
    "### Draw brickpolots"
   ]
  },
  {
   "cell_type": "code",
   "execution_count": 15,
   "metadata": {
    "ExecuteTime": {
     "end_time": "2023-08-18T16:44:16.472065Z",
     "start_time": "2023-08-18T16:44:08.785104Z"
    }
   },
   "outputs": [
    {
     "name": "stdout",
     "output_type": "stream",
     "text": [
      "gggggcgccagcaaccgcacctgtggcgccggtgatgccggccacgatgcgtccggcgtagaggatctgctcatgtttgacagcttatcatcgatagctaacaattcgttcaagccgagcccgctttgcggtctcggaccgaccggagccgcatcgggcgggccggcttaactcaggcgttaggtttgcataaaatttacggttctagggtttatgctgagagaagagagaggcgagcctgctgttatgatacttgtgaagggcggcactctgtcgtctaattctagttagacatcggggggggggggggggggggggggggggggggggggggggg\n",
      "\n",
      "extended seg_len = 337\n"
     ]
    },
    {
     "data": {
      "image/png": "[encoded data removed]",
      "text/plain": [
       "<Figure size 4000x300 with 2 Axes>"
      ]
     },
     "metadata": {
      "image/png": {
       "height": 296,
       "width": 2789
      }
     },
     "output_type": "display_data"
    }
   ],
   "source": [
    "def remove_high_values(brick_in, treshold, default_value):\n",
    "# Make values > treshold to be default value (for better visualization)\n",
    "    brick_out = copy.deepcopy(brick_in)\n",
    "    for i in range(brick_in.shape[0]):\n",
    "        for j in range(brick_in.shape[1]):\n",
    "            if brick_in[i,j] > treshold:\n",
    "                brick_out[i,j] = default_value\n",
    "    return brick_out\n",
    "                \n",
    "for i in range(len(num_unified_seqs)):\n",
    "    curr_seq = unified_seqs_dict[seq_ids[i]][shift:-matrix.shape[0]-1]\n",
    "    print(curr_seq)\n",
    "    print('')\n",
    "    print('extended seg_len = '+str(len(curr_seq)))\n",
    "    theBrick = bricks.T[i]\n",
    "    \n",
    "    if is_high_to_default:\n",
    "        theBrick_to_display = remove_high_values(theBrick, treshold, default_value)\n",
    "    else:\n",
    "        theBrick_to_display = theBrick\n",
    "\n",
    "    plt.figure(figsize=(40,3))\n",
    "    plt.imshow(theBrick_to_display.T[:,:theBrick_to_display.shape[0]-shift+1], cmap=color_map)\n",
    "    plt.title(seq_ids[i])\n",
    "    plt.yticks(range(5), np.arange(5)-2, fontsize=15)\n",
    "    plt.xticks(range(len(curr_seq)), [char for char in curr_seq], fontsize=10)\n",
    "    plt.clim([min_value,max_value])\n",
    "    plt.ylabel('spacer\\nflex', fontsize=15)\n",
    "    plt.gca().set_aspect(\"auto\")\n",
    "    plt.colorbar()\n",
    "    plt.savefig(output_folder+seq_ids[i]+'.pdf') \n",
    "    \n"
   ]
  },
  {
   "cell_type": "markdown",
   "metadata": {},
   "source": [
    "They are binding energies per spacer per position.\n",
    "\n",
    "What does a position mean? \n",
    "* trancription start site (+1) IF is_plus_one == True\n",
    "* -40 which is begining of -35 sigma70 foot IF is_plus_one == False\n",
    "\n",
    "The minimal value corresponds to the best binding."
   ]
  },
  {
   "cell_type": "markdown",
   "metadata": {},
   "source": [
    "## Bricks to $\\log P_{\\rm on}$"
   ]
  },
  {
   "cell_type": "markdown",
   "metadata": {},
   "source": [
    "Our measure of expression is the $\\log P_{\\rm on}$, where $P_{\\rm on}$ is the probability that the promoter is \"on\"."
   ]
  },
  {
   "cell_type": "code",
   "execution_count": 19,
   "metadata": {},
   "outputs": [],
   "source": [
    "def brick2lps(bricks_DNIs,\n",
    "              fitpars,\n",
    "              thresholdPosDict_ = None,\n",
    "              bindMode_ = None,\n",
    "              useChemPot = \"chem.pot\"\n",
    "             ):\n",
    "    \n",
    "    out = {}               \n",
    "    if thresholdPosDict_ is None: # No threshold position given\n",
    "        thresholdPosDict_ = fitpars[\"ThDict\"]\n",
    "    if bindMode_ is None: # No bindMode given\n",
    "        bindMode_ = fitpars[\"bindMode\"]\n",
    "    \n",
    "    # Try to get clearance rate\n",
    "    try:\n",
    "        R_ = np.exp(fitpars[\"logClearanceRate\"])\n",
    "    except:\n",
    "        R_ = None\n",
    "    \n",
    "    # Loop over bricks\n",
    "    for dataID_ in bricks_DNIs:\n",
    "        if \"_rc\" in dataID_: # Skip reverse complement?\n",
    "            continue\n",
    "        \n",
    "        # Get binding energies\n",
    "        bdni = bricks_DNIs[dataID_]\n",
    "       \n",
    "        # Get threshold position\n",
    "        try:\n",
    "            thresholdPos = thresholdPosDict_.get(dataID_, thresholdPosDict_[\"Prl\"])\n",
    "        except:\n",
    "            for k in thresholdPosDict_:\n",
    "                if dataID_ in k:\n",
    "                    thresholdPos = thresholdPosDict_[k]\n",
    "                    break\n",
    "        if thresholdPos <= 0:\n",
    "            thresholdPos = bdni.shape[1] + thresholdPos\n",
    "        # If the bricks d n i\n",
    "        off = thresholdPos < bdni.shape[1]\n",
    "    \n",
    "        # Handle bind mode\n",
    "        if bindMode_ == \"add\":\n",
    "            if R_ is None:\n",
    "                bindF = lambda xi: -logsumexp(-xi, axis = tuple(range(1, xi.ndim)))\n",
    "            else:\n",
    "                bindF = lambda xi: -np.log(np.sum(\n",
    "                                    1.0/(np.exp(xi) + R_),\n",
    "                                    axis = tuple(range(1,xi.ndim))\n",
    "                                            ))\n",
    "        elif bindMode_ == \"max\":\n",
    "            bindF = lambda xi: np.min(xi, axis = tuple(range(1, xi.ndim)))\n",
    "        \n",
    "        # \n",
    "        effON_ = bindF(bdni[:, :thresholdPos])\n",
    "        if off:\n",
    "            effOFF_ = bindF(bdni[:, thresholdPos:])\n",
    "        else:\n",
    "            effOFF_ = 0.\n",
    "  # Reverse complement\n",
    "        if dataID_ + \"_rc\" in bricks_DNIs:\n",
    "            bdni_rc = bricks_DNIs[dataID_ + \"_rc\"]\n",
    "            rcOcclusion = fitpars.get(\"rcOcclusion\", np.arange(bdni_rc.shape[1]))\n",
    "            effOFF_ += bindF(bdni_rc[:, rcOcclusion])\n",
    "        Pons_ = np.exp(-effON_) / (1.0 + np.exp(-effON_) + np.exp(-effOFF_))\n",
    "        out[dataID_] = np.log10(Pons_)\n",
    "    \n",
    "    return out"
   ]
  },
  {
   "cell_type": "code",
   "execution_count": 20,
   "metadata": {
    "ExecuteTime": {
     "end_time": "2023-08-18T16:44:16.486441Z",
     "start_time": "2023-08-18T16:44:16.477730Z"
    }
   },
   "outputs": [
    {
     "name": "stdout",
     "output_type": "stream",
     "text": [
      "(1, 376, 5)\n",
      "{'Pr.Pl': -17.908525893586578, '36N': -18.51051925714286}\n",
      "<class 'numpy.ndarray'>\n",
      "log(Pon) = [-0.47883907]\n",
      "Pon = [0.33201746]\n"
     ]
    }
   ],
   "source": [
    "#print(bricks.T)\n",
    "print(bricks.T.shape)\n",
    "print((model[\"chem.pot\"]))\n",
    "chemPot = model[\"chem.pot\"][\"Pr.Pl\"]\n",
    "energyScale = model[\"en.scale\"]\n",
    "logPons = brick2lps({\"Pr\": energyScale*(bricks.T-chemPot)}, model)[\"Pr\"]\n",
    "print(type(logPons))\n",
    "print('log(Pon) = '+str(logPons))\n",
    "print('Pon = '+ str(10**logPons))"
   ]
  },
  {
   "cell_type": "code",
   "execution_count": null,
   "metadata": {},
   "outputs": [],
   "source": []
  }
 ],
 "metadata": {
  "hide_input": false,
  "kernelspec": {
   "display_name": "Python 3 (ipykernel)",
   "language": "python",
   "name": "python3"
  },
  "language_info": {
   "codemirror_mode": {
    "name": "ipython",
    "version": 3
   },
   "file_extension": ".py",
   "mimetype": "text/x-python",
   "name": "python",
   "nbconvert_exporter": "python",
   "pygments_lexer": "ipython3",
   "version": "3.11.4"
  },
  "toc": {
   "base_numbering": 1,
   "nav_menu": {},
   "number_sections": true,
   "sideBar": true,
   "skip_h1_title": false,
   "title_cell": "Table of Contents",
   "title_sidebar": "Contents",
   "toc_cell": false,
   "toc_position": {},
   "toc_section_display": true,
   "toc_window_display": false
  },
  "varInspector": {
   "cols": {
    "lenName": 16,
    "lenType": 16,
    "lenVar": 40
   },
   "kernels_config": {
    "python": {
     "delete_cmd_postfix": "",
     "delete_cmd_prefix": "del ",
     "library": "var_list.py",
     "varRefreshCmd": "print(var_dic_list())"
    },
    "r": {
     "delete_cmd_postfix": ") ",
     "delete_cmd_prefix": "rm(",
     "library": "var_list.r",
     "varRefreshCmd": "cat(var_dic_list()) "
    }
   },
   "types_to_exclude": [
    "module",
    "function",
    "builtin_function_or_method",
    "instance",
    "_Feature"
   ],
   "window_display": false
  }
 },
 "nbformat": 4,
 "nbformat_minor": 2
}
