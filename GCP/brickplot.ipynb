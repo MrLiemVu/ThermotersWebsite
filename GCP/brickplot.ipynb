{
 "cells": [
  {
   "cell_type": "code",
   "execution_count": null,
   "metadata": {},
   "outputs": [],
   "source": [
    "from Bio import SeqIO\n",
    "from Bio.Seq import Seq\n",
    "from __future__ import division, print_function, absolute_import\n",
    "import os\n",
    "import numpy as np\n",
    "import copy\n",
    "from sys import path as syspath\n",
    "import matplotlib.pyplot as plt\n",
    "import pandas as pd\n",
    "import pickle\n",
    "from sklearn import linear_model"
   ]
  },
  {
   "cell_type": "code",
   "execution_count": null,
   "metadata": {},
   "outputs": [],
   "source": [
    "bases = \"acgt\"\n",
    "lett_to_index = dict(zip(bases, range(4)))"
   ]
  },
  {
   "cell_type": "code",
   "execution_count": null,
   "metadata": {},
   "outputs": [],
   "source": [
    "is_plus_one = True # True - a brick points to +1; False - points to -40\n",
    "if is_plus_one: # shift for sequence to adjust +1 or -40\n",
    "    shift = 40\n",
    "else:\n",
    "    shift = 0\n",
    "    \n",
    "is_reverse_complement = False # If True, reverse complement fasta seqs, then treat as usual\n",
    "\n",
    "# For visualisation\n",
    "\n",
    "max_value = -2.5\n",
    "min_value = -6\n",
    "\n",
    "is_high_to_default = False # If True, visualize brickplot values > treshold as default value\n",
    "treshold = -2.5\n",
    "default_value = max_value \n",
    "color_map = 'hot'\n",
    "\n",
    "is_prefix_suffix = True # True - add Gs to the begining and end of each sequence to make it equal length and space for matrix\n"
   ]
  },
  {
   "cell_type": "code",
   "execution_count": null,
   "metadata": {},
   "outputs": [],
   "source": [
    "# Import promoters seqs data\n",
    "fasta_reader = open(input_fasta_filepath, 'r')\n",
    "\n",
    "# Initial sequences: fasta -> dict\n",
    "dict_seqs = {}\n",
    "max_seq_len = 0\n",
    "for line in fasta_reader:\n",
    "    if line.startswith('>'):\n",
    "        seq_id = line.strip('>').strip()\n",
    "        print(seq_id)\n",
    "    else:\n",
    "        seq = line.strip('\"').strip()\n",
    "        if seq == '':\n",
    "            continue\n",
    "        else:\n",
    "            if is_reverse_complement:\n",
    "                seq = str(Seq(seq).reverse_complement())\n",
    "        print('sequence length = '+str(len(seq)))\n",
    "        if max_seq_len < len(seq):\n",
    "            max_seq_len = len(seq)\n",
    "        print(seq)\n",
    "        dict_seqs[seq_id] = seq\n",
    "        \n",
    "fasta_reader.close()\n",
    "\n",
    "# Sequences unified by length (TO MODIFY?)\n",
    "# Add artificial 'g's in the begining and the end of all sequences to mak ethem equal by length\n",
    "unified_seqs_dict = {}\n",
    "for seq_id in dict_seqs:\n",
    "    seq = dict_seqs[seq_id]\n",
    "    if is_prefix_suffix:\n",
    "        prefix = str('g'*(max_seq_len - len(seq)+shift+5))\n",
    "        suffix = str('g'*(32+2+shift))\n",
    "        unified_seqs_dict[seq_id] = (prefix+seq+suffix).lower()\n",
    "    else:\n",
    "        unified_seqs_dict[seq_id] = seq.lower()\n",
    "        \n",
    "    #print(len(unified_seqs_dict[seq_id]))\n",
    "        \n",
    "# Seqs as numbers: 1) list of Int arrays made from Sequences unified by length, 2) list of seq_ids     \n",
    "num_unified_seqs = []\n",
    "seq_ids = []\n",
    "for seq_id in unified_seqs_dict:\n",
    "    seq_ids.append(seq_id)\n",
    "    \n",
    "num_unified_seqs = np.array([np.array([lett_to_index[l] for l in s]) for s in unified_seqs_dict.values()])    \n"
   ]
  }
 ],
 "metadata": {
  "language_info": {
   "name": "python"
  }
 },
 "nbformat": 4,
 "nbformat_minor": 2
}
